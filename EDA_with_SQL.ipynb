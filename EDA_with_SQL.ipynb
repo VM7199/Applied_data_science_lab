{
 "cells": [
  {
   "cell_type": "code",
   "execution_count": 1,
   "id": "ad195dd2-6cb4-47b3-8194-503138708e55",
   "metadata": {},
   "outputs": [
    {
     "name": "stdout",
     "output_type": "stream",
     "text": [
      "Collecting sqlalchemy==1.3.9\n",
      "  Downloading SQLAlchemy-1.3.9.tar.gz (6.0 MB)\n",
      "     ---------------------------------------- 0.0/6.0 MB ? eta -:--:--\n",
      "     ---------------------------------------- 0.0/6.0 MB ? eta -:--:--\n",
      "     ---------------------------------------- 0.0/6.0 MB ? eta -:--:--\n",
      "     ---------------------------------------- 0.0/6.0 MB ? eta -:--:--\n",
      "     ---------------------------------------- 0.0/6.0 MB ? eta -:--:--\n",
      "     --- ------------------------------------ 0.5/6.0 MB 2.1 MB/s eta 0:00:03\n",
      "     ------- -------------------------------- 1.0/6.0 MB 2.3 MB/s eta 0:00:03\n",
      "     -------- ------------------------------- 1.3/6.0 MB 2.0 MB/s eta 0:00:03\n",
      "     -------- ------------------------------- 1.3/6.0 MB 2.0 MB/s eta 0:00:03\n",
      "     -------- ------------------------------- 1.3/6.0 MB 2.0 MB/s eta 0:00:03\n",
      "     ---------- ----------------------------- 1.6/6.0 MB 1.0 MB/s eta 0:00:05\n",
      "     ---------- ----------------------------- 1.6/6.0 MB 1.0 MB/s eta 0:00:05\n",
      "     ------------ --------------------------- 1.8/6.0 MB 949.8 kB/s eta 0:00:05\n",
      "     -------------- ------------------------- 2.1/6.0 MB 947.3 kB/s eta 0:00:05\n",
      "     -------------- ------------------------- 2.1/6.0 MB 947.3 kB/s eta 0:00:05\n",
      "     ----------------- ---------------------- 2.6/6.0 MB 1.0 MB/s eta 0:00:04\n",
      "     ------------------- -------------------- 2.9/6.0 MB 1.0 MB/s eta 0:00:03\n",
      "     ---------------------- ----------------- 3.4/6.0 MB 1.2 MB/s eta 0:00:03\n",
      "     -------------------------- ------------- 3.9/6.0 MB 1.2 MB/s eta 0:00:02\n",
      "     ----------------------------- ---------- 4.5/6.0 MB 1.3 MB/s eta 0:00:02\n",
      "     ----------------------------------- ---- 5.2/6.0 MB 1.5 MB/s eta 0:00:01\n",
      "     -------------------------------------- - 5.8/6.0 MB 1.5 MB/s eta 0:00:01\n",
      "     ---------------------------------------- 6.0/6.0 MB 1.5 MB/s eta 0:00:00\n",
      "  Preparing metadata (setup.py): started\n",
      "  Preparing metadata (setup.py): finished with status 'done'\n",
      "Building wheels for collected packages: sqlalchemy\n",
      "  Building wheel for sqlalchemy (setup.py): started\n",
      "  Building wheel for sqlalchemy (setup.py): finished with status 'done'\n",
      "  Created wheel for sqlalchemy: filename=sqlalchemy-1.3.9-cp39-cp39-win_amd64.whl size=1163504 sha256=298ed6baca859576809a1166e0c0287692a2f4a7186935252b258cc58093a317\n",
      "  Stored in directory: c:\\users\\krethevandhana mohan\\appdata\\local\\pip\\cache\\wheels\\5b\\43\\0d\\de1699809f9e6aaa54a97275298fa07075cb19acc557b18955\n",
      "Successfully built sqlalchemy\n",
      "Installing collected packages: sqlalchemy\n",
      "Successfully installed sqlalchemy-1.3.9\n"
     ]
    },
    {
     "name": "stderr",
     "output_type": "stream",
     "text": [
      "WARNING: Ignoring invalid distribution -rkupsafe (c:\\programdata\\anaconda3\\lib\\site-packages)\n",
      "WARNING: Ignoring invalid distribution - (c:\\programdata\\anaconda3\\lib\\site-packages)\n",
      "WARNING: Ignoring invalid distribution -rkupsafe (c:\\programdata\\anaconda3\\lib\\site-packages)\n",
      "WARNING: Ignoring invalid distribution -0rkupsafe (c:\\programdata\\anaconda3\\lib\\site-packages)\n",
      "WARNING: Ignoring invalid distribution -1rkupsafe (c:\\programdata\\anaconda3\\lib\\site-packages)\n",
      "WARNING: Ignoring invalid distribution -arkupsafe (c:\\programdata\\anaconda3\\lib\\site-packages)\n",
      "  DEPRECATION: Building 'sqlalchemy' using the legacy setup.py bdist_wheel mechanism, which will be removed in a future version. pip 25.3 will enforce this behaviour change. A possible replacement is to use the standardized build interface by setting the `--use-pep517` option, (possibly combined with `--no-build-isolation`), or adding a `pyproject.toml` file to the source tree of 'sqlalchemy'. Discussion can be found at https://github.com/pypa/pip/issues/6334\n",
      "WARNING: Ignoring invalid distribution -rkupsafe (c:\\programdata\\anaconda3\\lib\\site-packages)\n",
      "WARNING: Ignoring invalid distribution - (c:\\programdata\\anaconda3\\lib\\site-packages)\n",
      "WARNING: Ignoring invalid distribution -rkupsafe (c:\\programdata\\anaconda3\\lib\\site-packages)\n",
      "WARNING: Ignoring invalid distribution -0rkupsafe (c:\\programdata\\anaconda3\\lib\\site-packages)\n",
      "WARNING: Ignoring invalid distribution -1rkupsafe (c:\\programdata\\anaconda3\\lib\\site-packages)\n",
      "WARNING: Ignoring invalid distribution -arkupsafe (c:\\programdata\\anaconda3\\lib\\site-packages)\n",
      "WARNING: Ignoring invalid distribution -rkupsafe (c:\\programdata\\anaconda3\\lib\\site-packages)\n",
      "WARNING: Ignoring invalid distribution - (c:\\programdata\\anaconda3\\lib\\site-packages)\n",
      "WARNING: Ignoring invalid distribution -rkupsafe (c:\\programdata\\anaconda3\\lib\\site-packages)\n",
      "WARNING: Ignoring invalid distribution -0rkupsafe (c:\\programdata\\anaconda3\\lib\\site-packages)\n",
      "WARNING: Ignoring invalid distribution -1rkupsafe (c:\\programdata\\anaconda3\\lib\\site-packages)\n",
      "WARNING: Ignoring invalid distribution -arkupsafe (c:\\programdata\\anaconda3\\lib\\site-packages)\n"
     ]
    },
    {
     "name": "stdout",
     "output_type": "stream",
     "text": [
      "Collecting ipython-sql\n",
      "  Downloading ipython_sql-0.5.0-py3-none-any.whl.metadata (17 kB)\n",
      "Collecting prettytable (from ipython-sql)\n",
      "  Downloading prettytable-3.16.0-py3-none-any.whl.metadata (33 kB)\n",
      "Requirement already satisfied: ipython in c:\\programdata\\anaconda3\\lib\\site-packages (from ipython-sql) (8.15.0)\n",
      "Collecting sqlalchemy>=2.0 (from ipython-sql)\n",
      "  Downloading sqlalchemy-2.0.42-cp39-cp39-win_amd64.whl.metadata (9.8 kB)\n",
      "Collecting sqlparse (from ipython-sql)\n",
      "  Downloading sqlparse-0.5.3-py3-none-any.whl.metadata (3.9 kB)\n",
      "Requirement already satisfied: six in c:\\programdata\\anaconda3\\lib\\site-packages (from ipython-sql) (1.17.0)\n",
      "Collecting ipython-genutils (from ipython-sql)\n",
      "  Downloading ipython_genutils-0.2.0-py2.py3-none-any.whl.metadata (755 bytes)\n",
      "Collecting greenlet>=1 (from sqlalchemy>=2.0->ipython-sql)\n",
      "  Downloading greenlet-3.2.3-cp39-cp39-win_amd64.whl.metadata (4.2 kB)\n",
      "Requirement already satisfied: typing-extensions>=4.6.0 in c:\\users\\krethevandhana mohan\\appdata\\roaming\\python\\python39\\site-packages (from sqlalchemy>=2.0->ipython-sql) (4.14.1)\n",
      "Requirement already satisfied: backcall in c:\\programdata\\anaconda3\\lib\\site-packages (from ipython->ipython-sql) (0.2.0)\n",
      "Requirement already satisfied: decorator in c:\\programdata\\anaconda3\\lib\\site-packages (from ipython->ipython-sql) (5.1.1)\n",
      "Requirement already satisfied: jedi>=0.16 in c:\\programdata\\anaconda3\\lib\\site-packages (from ipython->ipython-sql) (0.19.2)\n",
      "Requirement already satisfied: matplotlib-inline in c:\\programdata\\anaconda3\\lib\\site-packages (from ipython->ipython-sql) (0.1.6)\n",
      "Requirement already satisfied: pickleshare in c:\\programdata\\anaconda3\\lib\\site-packages (from ipython->ipython-sql) (0.7.5)\n",
      "Requirement already satisfied: prompt-toolkit!=3.0.37,<3.1.0,>=3.0.30 in c:\\programdata\\anaconda3\\lib\\site-packages (from ipython->ipython-sql) (3.0.43)\n",
      "Requirement already satisfied: pygments>=2.4.0 in c:\\programdata\\anaconda3\\lib\\site-packages (from ipython->ipython-sql) (2.19.1)\n",
      "Requirement already satisfied: stack-data in c:\\programdata\\anaconda3\\lib\\site-packages (from ipython->ipython-sql) (0.2.0)\n",
      "Requirement already satisfied: traitlets>=5 in c:\\programdata\\anaconda3\\lib\\site-packages (from ipython->ipython-sql) (5.14.3)\n",
      "Requirement already satisfied: exceptiongroup in c:\\programdata\\anaconda3\\lib\\site-packages (from ipython->ipython-sql) (1.2.0)\n",
      "Requirement already satisfied: colorama in c:\\programdata\\anaconda3\\lib\\site-packages (from ipython->ipython-sql) (0.4.6)\n",
      "Requirement already satisfied: wcwidth in c:\\programdata\\anaconda3\\lib\\site-packages (from prompt-toolkit!=3.0.37,<3.1.0,>=3.0.30->ipython->ipython-sql) (0.2.13)\n",
      "Requirement already satisfied: parso<0.9.0,>=0.8.4 in c:\\programdata\\anaconda3\\lib\\site-packages (from jedi>=0.16->ipython->ipython-sql) (0.8.4)\n",
      "Requirement already satisfied: executing in c:\\programdata\\anaconda3\\lib\\site-packages (from stack-data->ipython->ipython-sql) (0.8.3)\n",
      "Requirement already satisfied: asttokens in c:\\programdata\\anaconda3\\lib\\site-packages (from stack-data->ipython->ipython-sql) (3.0.0)\n",
      "Requirement already satisfied: pure-eval in c:\\programdata\\anaconda3\\lib\\site-packages (from stack-data->ipython->ipython-sql) (0.2.2)\n",
      "Downloading ipython_sql-0.5.0-py3-none-any.whl (20 kB)\n",
      "Downloading sqlalchemy-2.0.42-cp39-cp39-win_amd64.whl (2.1 MB)\n",
      "   ---------------------------------------- 0.0/2.1 MB ? eta -:--:--\n",
      "   --------- ------------------------------ 0.5/2.1 MB 3.3 MB/s eta 0:00:01\n",
      "   ----------------------------- ---------- 1.6/2.1 MB 4.0 MB/s eta 0:00:01\n",
      "   ---------------------------------------- 2.1/2.1 MB 3.6 MB/s eta 0:00:00\n",
      "Downloading greenlet-3.2.3-cp39-cp39-win_amd64.whl (296 kB)\n",
      "Downloading ipython_genutils-0.2.0-py2.py3-none-any.whl (26 kB)\n",
      "Downloading prettytable-3.16.0-py3-none-any.whl (33 kB)\n",
      "Downloading sqlparse-0.5.3-py3-none-any.whl (44 kB)\n",
      "Installing collected packages: ipython-genutils, sqlparse, prettytable, greenlet, sqlalchemy, ipython-sql\n",
      "\n",
      "   ---------------------------------------- 0/6 [ipython-genutils]\n",
      "   ------ --------------------------------- 1/6 [sqlparse]\n",
      "   ------ --------------------------------- 1/6 [sqlparse]\n",
      "   ------------- -------------------------- 2/6 [prettytable]\n",
      "   -------------------- ------------------- 3/6 [greenlet]\n",
      "   -------------------- ------------------- 3/6 [greenlet]\n",
      "   -------------------- ------------------- 3/6 [greenlet]\n",
      "  Attempting uninstall: sqlalchemy\n",
      "   -------------------- ------------------- 3/6 [greenlet]\n",
      "    Found existing installation: SQLAlchemy 1.3.9\n",
      "   -------------------- ------------------- 3/6 [greenlet]\n",
      "   -------------------------- ------------- 4/6 [sqlalchemy]\n",
      "   -------------------------- ------------- 4/6 [sqlalchemy]\n",
      "    Uninstalling SQLAlchemy-1.3.9:\n",
      "   -------------------------- ------------- 4/6 [sqlalchemy]\n",
      "      Successfully uninstalled SQLAlchemy-1.3.9\n",
      "   -------------------------- ------------- 4/6 [sqlalchemy]\n",
      "   -------------------------- ------------- 4/6 [sqlalchemy]\n",
      "   -------------------------- ------------- 4/6 [sqlalchemy]\n",
      "   -------------------------- ------------- 4/6 [sqlalchemy]\n",
      "   -------------------------- ------------- 4/6 [sqlalchemy]\n",
      "   -------------------------- ------------- 4/6 [sqlalchemy]\n",
      "   -------------------------- ------------- 4/6 [sqlalchemy]\n",
      "   -------------------------- ------------- 4/6 [sqlalchemy]\n",
      "   -------------------------- ------------- 4/6 [sqlalchemy]\n",
      "   -------------------------- ------------- 4/6 [sqlalchemy]\n",
      "   -------------------------- ------------- 4/6 [sqlalchemy]\n",
      "   -------------------------- ------------- 4/6 [sqlalchemy]\n",
      "   -------------------------- ------------- 4/6 [sqlalchemy]\n",
      "   -------------------------- ------------- 4/6 [sqlalchemy]\n",
      "   -------------------------- ------------- 4/6 [sqlalchemy]\n",
      "   -------------------------- ------------- 4/6 [sqlalchemy]\n",
      "   -------------------------- ------------- 4/6 [sqlalchemy]\n",
      "   -------------------------- ------------- 4/6 [sqlalchemy]\n",
      "   -------------------------- ------------- 4/6 [sqlalchemy]\n",
      "   -------------------------- ------------- 4/6 [sqlalchemy]\n",
      "   -------------------------- ------------- 4/6 [sqlalchemy]\n",
      "   -------------------------- ------------- 4/6 [sqlalchemy]\n",
      "   -------------------------- ------------- 4/6 [sqlalchemy]\n",
      "   -------------------------- ------------- 4/6 [sqlalchemy]\n",
      "   -------------------------- ------------- 4/6 [sqlalchemy]\n",
      "   -------------------------- ------------- 4/6 [sqlalchemy]\n",
      "   -------------------------- ------------- 4/6 [sqlalchemy]\n",
      "   -------------------------- ------------- 4/6 [sqlalchemy]\n",
      "   -------------------------- ------------- 4/6 [sqlalchemy]\n",
      "   -------------------------- ------------- 4/6 [sqlalchemy]\n",
      "   -------------------------- ------------- 4/6 [sqlalchemy]\n",
      "   -------------------------- ------------- 4/6 [sqlalchemy]\n",
      "   -------------------------- ------------- 4/6 [sqlalchemy]\n",
      "   -------------------------- ------------- 4/6 [sqlalchemy]\n",
      "   -------------------------- ------------- 4/6 [sqlalchemy]\n",
      "   -------------------------- ------------- 4/6 [sqlalchemy]\n",
      "   --------------------------------- ------ 5/6 [ipython-sql]\n",
      "   ---------------------------------------- 6/6 [ipython-sql]\n",
      "\n",
      "Successfully installed greenlet-3.2.3 ipython-genutils-0.2.0 ipython-sql-0.5.0 prettytable-3.16.0 sqlalchemy-2.0.42 sqlparse-0.5.3\n"
     ]
    },
    {
     "name": "stderr",
     "output_type": "stream",
     "text": [
      "WARNING: Ignoring invalid distribution -rkupsafe (c:\\programdata\\anaconda3\\lib\\site-packages)\n",
      "WARNING: Ignoring invalid distribution - (c:\\programdata\\anaconda3\\lib\\site-packages)\n",
      "WARNING: Ignoring invalid distribution -rkupsafe (c:\\programdata\\anaconda3\\lib\\site-packages)\n",
      "WARNING: Ignoring invalid distribution -0rkupsafe (c:\\programdata\\anaconda3\\lib\\site-packages)\n",
      "WARNING: Ignoring invalid distribution -1rkupsafe (c:\\programdata\\anaconda3\\lib\\site-packages)\n",
      "WARNING: Ignoring invalid distribution -arkupsafe (c:\\programdata\\anaconda3\\lib\\site-packages)\n",
      "WARNING: Ignoring invalid distribution -rkupsafe (c:\\programdata\\anaconda3\\lib\\site-packages)\n",
      "WARNING: Ignoring invalid distribution - (c:\\programdata\\anaconda3\\lib\\site-packages)\n",
      "WARNING: Ignoring invalid distribution -rkupsafe (c:\\programdata\\anaconda3\\lib\\site-packages)\n",
      "WARNING: Ignoring invalid distribution -0rkupsafe (c:\\programdata\\anaconda3\\lib\\site-packages)\n",
      "WARNING: Ignoring invalid distribution -1rkupsafe (c:\\programdata\\anaconda3\\lib\\site-packages)\n",
      "WARNING: Ignoring invalid distribution -arkupsafe (c:\\programdata\\anaconda3\\lib\\site-packages)\n",
      "WARNING: Ignoring invalid distribution -rkupsafe (c:\\programdata\\anaconda3\\lib\\site-packages)\n",
      "WARNING: Ignoring invalid distribution - (c:\\programdata\\anaconda3\\lib\\site-packages)\n",
      "WARNING: Ignoring invalid distribution -rkupsafe (c:\\programdata\\anaconda3\\lib\\site-packages)\n",
      "WARNING: Ignoring invalid distribution -0rkupsafe (c:\\programdata\\anaconda3\\lib\\site-packages)\n",
      "WARNING: Ignoring invalid distribution -1rkupsafe (c:\\programdata\\anaconda3\\lib\\site-packages)\n",
      "WARNING: Ignoring invalid distribution -arkupsafe (c:\\programdata\\anaconda3\\lib\\site-packages)\n"
     ]
    },
    {
     "name": "stdout",
     "output_type": "stream",
     "text": [
      "Requirement already satisfied: prettytable in c:\\programdata\\anaconda3\\lib\\site-packages (3.16.0)\n",
      "Requirement already satisfied: wcwidth in c:\\programdata\\anaconda3\\lib\\site-packages (from prettytable) (0.2.13)\n"
     ]
    },
    {
     "name": "stderr",
     "output_type": "stream",
     "text": [
      "WARNING: Ignoring invalid distribution -rkupsafe (c:\\programdata\\anaconda3\\lib\\site-packages)\n",
      "WARNING: Ignoring invalid distribution - (c:\\programdata\\anaconda3\\lib\\site-packages)\n",
      "WARNING: Ignoring invalid distribution -rkupsafe (c:\\programdata\\anaconda3\\lib\\site-packages)\n",
      "WARNING: Ignoring invalid distribution -0rkupsafe (c:\\programdata\\anaconda3\\lib\\site-packages)\n",
      "WARNING: Ignoring invalid distribution -1rkupsafe (c:\\programdata\\anaconda3\\lib\\site-packages)\n",
      "WARNING: Ignoring invalid distribution -arkupsafe (c:\\programdata\\anaconda3\\lib\\site-packages)\n",
      "WARNING: Ignoring invalid distribution -rkupsafe (c:\\programdata\\anaconda3\\lib\\site-packages)\n",
      "WARNING: Ignoring invalid distribution - (c:\\programdata\\anaconda3\\lib\\site-packages)\n",
      "WARNING: Ignoring invalid distribution -rkupsafe (c:\\programdata\\anaconda3\\lib\\site-packages)\n",
      "WARNING: Ignoring invalid distribution -0rkupsafe (c:\\programdata\\anaconda3\\lib\\site-packages)\n",
      "WARNING: Ignoring invalid distribution -1rkupsafe (c:\\programdata\\anaconda3\\lib\\site-packages)\n",
      "WARNING: Ignoring invalid distribution -arkupsafe (c:\\programdata\\anaconda3\\lib\\site-packages)\n",
      "WARNING: Ignoring invalid distribution -rkupsafe (c:\\programdata\\anaconda3\\lib\\site-packages)\n",
      "WARNING: Ignoring invalid distribution - (c:\\programdata\\anaconda3\\lib\\site-packages)\n",
      "WARNING: Ignoring invalid distribution -rkupsafe (c:\\programdata\\anaconda3\\lib\\site-packages)\n",
      "WARNING: Ignoring invalid distribution -0rkupsafe (c:\\programdata\\anaconda3\\lib\\site-packages)\n",
      "WARNING: Ignoring invalid distribution -1rkupsafe (c:\\programdata\\anaconda3\\lib\\site-packages)\n",
      "WARNING: Ignoring invalid distribution -arkupsafe (c:\\programdata\\anaconda3\\lib\\site-packages)\n",
      "WARNING: Ignoring invalid distribution -rkupsafe (c:\\programdata\\anaconda3\\lib\\site-packages)\n",
      "WARNING: Ignoring invalid distribution - (c:\\programdata\\anaconda3\\lib\\site-packages)\n",
      "WARNING: Ignoring invalid distribution -rkupsafe (c:\\programdata\\anaconda3\\lib\\site-packages)\n",
      "WARNING: Ignoring invalid distribution -0rkupsafe (c:\\programdata\\anaconda3\\lib\\site-packages)\n",
      "WARNING: Ignoring invalid distribution -1rkupsafe (c:\\programdata\\anaconda3\\lib\\site-packages)\n",
      "WARNING: Ignoring invalid distribution -arkupsafe (c:\\programdata\\anaconda3\\lib\\site-packages)\n",
      "WARNING: Ignoring invalid distribution -rkupsafe (c:\\programdata\\anaconda3\\lib\\site-packages)\n",
      "WARNING: Ignoring invalid distribution - (c:\\programdata\\anaconda3\\lib\\site-packages)\n",
      "WARNING: Ignoring invalid distribution -rkupsafe (c:\\programdata\\anaconda3\\lib\\site-packages)\n",
      "WARNING: Ignoring invalid distribution -0rkupsafe (c:\\programdata\\anaconda3\\lib\\site-packages)\n",
      "WARNING: Ignoring invalid distribution -1rkupsafe (c:\\programdata\\anaconda3\\lib\\site-packages)\n",
      "WARNING: Ignoring invalid distribution -arkupsafe (c:\\programdata\\anaconda3\\lib\\site-packages)\n",
      "WARNING: Ignoring invalid distribution -rkupsafe (c:\\programdata\\anaconda3\\lib\\site-packages)\n",
      "WARNING: Ignoring invalid distribution - (c:\\programdata\\anaconda3\\lib\\site-packages)\n",
      "WARNING: Ignoring invalid distribution -rkupsafe (c:\\programdata\\anaconda3\\lib\\site-packages)\n",
      "WARNING: Ignoring invalid distribution -0rkupsafe (c:\\programdata\\anaconda3\\lib\\site-packages)\n",
      "WARNING: Ignoring invalid distribution -1rkupsafe (c:\\programdata\\anaconda3\\lib\\site-packages)\n",
      "WARNING: Ignoring invalid distribution -arkupsafe (c:\\programdata\\anaconda3\\lib\\site-packages)\n"
     ]
    }
   ],
   "source": [
    "# Install necessary packages (run these if not already installed)\n",
    "!pip install sqlalchemy==1.3.9\n",
    "!pip install ipython-sql\n",
    "!pip install prettytable\n",
    "!pip install -q pandas\n"
   ]
  },
  {
   "cell_type": "code",
   "execution_count": null,
   "id": "d6fc4d32-1e5d-4b4a-a8c4-fea13ac7c496",
   "metadata": {},
   "outputs": [],
   "source": [
    "# Load SQL extension and import required modules\n",
    "%load_ext sql\n",
    "\n",
    "import csv, sqlite3\n",
    "import prettytable\n",
    "prettytable.DEFAULT = 'DEFAULT'\n",
    "\n",
    "# Create a SQLite database connection\n",
    "con = sqlite3.connect(\"my_data1.db\")\n",
    "cur = con.cursor()\n",
    "\n",
    "# Connect to the SQLite database in Jupyter using SQL magic\n",
    "%sql sqlite:///my_data1.db\n"
   ]
  },
  {
   "cell_type": "code",
   "execution_count": 21,
   "id": "203e2d4d-48b9-4443-9269-898b6c820a43",
   "metadata": {},
   "outputs": [
    {
     "name": "stdout",
     "output_type": "stream",
     "text": [
      "Index(['flight_no', 'launch_site', 'payload', 'payload_mass', 'orbit',\n",
      "       'customer', 'launch_outcome', 'version_booster', 'booster_landing',\n",
      "       'date', 'time', 'class'],\n",
      "      dtype='object')\n"
     ]
    },
    {
     "data": {
      "text/plain": [
       "121"
      ]
     },
     "execution_count": 21,
     "metadata": {},
     "output_type": "execute_result"
    }
   ],
   "source": [
    "# Load your dataset saved from the last lab (dataset_part_2.csv)\n",
    "import pandas as pd\n",
    "df = pd.read_csv(\"dataset_part_2.csv\")\n",
    "\n",
    "\n",
    "# Rename columns: remove spaces, lowercase, and use underscores\n",
    "df.columns = df.columns.str.strip().str.lower().str.replace(' ', '_').str.replace('.', '', regex=False)\n",
    "\n",
    "# Preview updated column names\n",
    "print(df.columns)\n",
    "\n",
    "# Save clean DataFrame to SQLite\n",
    "df.to_sql(\"SPACEXTBL\", con, if_exists='replace', index=False, method=\"multi\")\n",
    "\n"
   ]
  },
  {
   "cell_type": "code",
   "execution_count": 32,
   "id": "e069668f-75d5-46de-8917-6fba172d96fe",
   "metadata": {},
   "outputs": [
    {
     "name": "stdout",
     "output_type": "stream",
     "text": [
      "The sql extension is already loaded. To reload it, use:\n",
      "  %reload_ext sql\n"
     ]
    }
   ],
   "source": [
    "%load_ext sql\n",
    "%sql sqlite:///my_data1.db\n"
   ]
  },
  {
   "cell_type": "code",
   "execution_count": 22,
   "id": "543bfab4-571c-4e2f-983c-15eb655916fd",
   "metadata": {},
   "outputs": [
    {
     "name": "stdout",
     "output_type": "stream",
     "text": [
      " * sqlite:///my_data1.db\n",
      "Done.\n"
     ]
    },
    {
     "data": {
      "text/plain": [
       "[]"
      ]
     },
     "execution_count": 22,
     "metadata": {},
     "output_type": "execute_result"
    }
   ],
   "source": [
    "# Drop any existing cleaned table to avoid conflicts\n",
    "%sql DROP TABLE IF EXISTS SPACEXTABLE;\n"
   ]
  },
  {
   "cell_type": "code",
   "execution_count": 23,
   "id": "a45611d0-10fd-4935-9dc3-cdd2545f48d9",
   "metadata": {},
   "outputs": [
    {
     "name": "stdout",
     "output_type": "stream",
     "text": [
      " * sqlite:///my_data1.db\n",
      "Done.\n"
     ]
    },
    {
     "data": {
      "text/plain": [
       "[]"
      ]
     },
     "execution_count": 23,
     "metadata": {},
     "output_type": "execute_result"
    }
   ],
   "source": [
    " # Create a cleaned version of the dataset excluding blank rows\n",
    "%sql CREATE TABLE SPACEXTABLE AS SELECT * FROM SPACEXTBL WHERE Date IS NOT NULL;\n"
   ]
  },
  {
   "cell_type": "code",
   "execution_count": 26,
   "id": "ff1b8890-a285-4b46-be37-ef66f404b636",
   "metadata": {},
   "outputs": [
    {
     "name": "stdout",
     "output_type": "stream",
     "text": [
      " * sqlite:///my_data1.db\n",
      "Done.\n"
     ]
    },
    {
     "data": {
      "text/html": [
       "<table>\n",
       "    <thead>\n",
       "        <tr>\n",
       "            <th>launch_site</th>\n",
       "        </tr>\n",
       "    </thead>\n",
       "    <tbody>\n",
       "        <tr>\n",
       "            <td>CCAFS</td>\n",
       "        </tr>\n",
       "        <tr>\n",
       "            <td>VAFB</td>\n",
       "        </tr>\n",
       "        <tr>\n",
       "            <td>Cape Canaveral</td>\n",
       "        </tr>\n",
       "        <tr>\n",
       "            <td>KSC</td>\n",
       "        </tr>\n",
       "        <tr>\n",
       "            <td>CCSFS</td>\n",
       "        </tr>\n",
       "    </tbody>\n",
       "</table>"
      ],
      "text/plain": [
       "[('CCAFS',), ('VAFB',), ('Cape Canaveral',), ('KSC',), ('CCSFS',)]"
      ]
     },
     "execution_count": 26,
     "metadata": {},
     "output_type": "execute_result"
    }
   ],
   "source": [
    "%sql SELECT DISTINCT launch_site FROM SPACEXTABLE;\n"
   ]
  },
  {
   "cell_type": "code",
   "execution_count": 27,
   "id": "bd84d4e6-1e1a-429f-a61f-dfd3830c6289",
   "metadata": {},
   "outputs": [
    {
     "name": "stdout",
     "output_type": "stream",
     "text": [
      " * sqlite:///my_data1.db\n",
      "Done.\n"
     ]
    },
    {
     "data": {
      "text/html": [
       "<table>\n",
       "    <thead>\n",
       "        <tr>\n",
       "            <th>flight_no</th>\n",
       "            <th>launch_site</th>\n",
       "            <th>payload</th>\n",
       "            <th>payload_mass</th>\n",
       "            <th>orbit</th>\n",
       "            <th>customer</th>\n",
       "            <th>launch_outcome</th>\n",
       "            <th>version_booster</th>\n",
       "            <th>booster_landing</th>\n",
       "            <th>date</th>\n",
       "            <th>time</th>\n",
       "            <th>class</th>\n",
       "        </tr>\n",
       "    </thead>\n",
       "    <tbody>\n",
       "        <tr>\n",
       "            <td>1</td>\n",
       "            <td>CCAFS</td>\n",
       "            <td>Dragon Spacecraft Qualification Unit</td>\n",
       "            <td>0</td>\n",
       "            <td>LEO</td>\n",
       "            <td>SpaceX</td>\n",
       "            <td>Success<br></td>\n",
       "            <td>F9 v1.07B0003.18</td>\n",
       "            <td>Failure</td>\n",
       "            <td>4 June 2010</td>\n",
       "            <td>18:45</td>\n",
       "            <td>1</td>\n",
       "        </tr>\n",
       "        <tr>\n",
       "            <td>2</td>\n",
       "            <td>CCAFS</td>\n",
       "            <td>Dragon</td>\n",
       "            <td>0</td>\n",
       "            <td>LEO</td>\n",
       "            <td>NASA</td>\n",
       "            <td>Success</td>\n",
       "            <td>F9 v1.07B0004.18</td>\n",
       "            <td>Failure</td>\n",
       "            <td>8 December 2010</td>\n",
       "            <td>15:43</td>\n",
       "            <td>1</td>\n",
       "        </tr>\n",
       "        <tr>\n",
       "            <td>3</td>\n",
       "            <td>CCAFS</td>\n",
       "            <td>Dragon</td>\n",
       "            <td>525 kg</td>\n",
       "            <td>LEO</td>\n",
       "            <td>NASA</td>\n",
       "            <td>Success</td>\n",
       "            <td>F9 v1.07B0005.18</td>\n",
       "            <td>No attempt<br></td>\n",
       "            <td>22 May 2012</td>\n",
       "            <td>07:44</td>\n",
       "            <td>1</td>\n",
       "        </tr>\n",
       "        <tr>\n",
       "            <td>4</td>\n",
       "            <td>CCAFS</td>\n",
       "            <td>SpaceX CRS-1</td>\n",
       "            <td>4,700 kg</td>\n",
       "            <td>LEO</td>\n",
       "            <td>NASA</td>\n",
       "            <td>Success<br></td>\n",
       "            <td>F9 v1.07B0006.18</td>\n",
       "            <td>No attempt</td>\n",
       "            <td>8 October 2012</td>\n",
       "            <td>00:35</td>\n",
       "            <td>0</td>\n",
       "        </tr>\n",
       "        <tr>\n",
       "            <td>5</td>\n",
       "            <td>CCAFS</td>\n",
       "            <td>SpaceX CRS-2</td>\n",
       "            <td>4,877 kg</td>\n",
       "            <td>LEO</td>\n",
       "            <td>NASA</td>\n",
       "            <td>Success<br></td>\n",
       "            <td>F9 v1.07B0007.18</td>\n",
       "            <td>No attempt<br></td>\n",
       "            <td>1 March 2013</td>\n",
       "            <td>15:10</td>\n",
       "            <td>1</td>\n",
       "        </tr>\n",
       "    </tbody>\n",
       "</table>"
      ],
      "text/plain": [
       "[(1, 'CCAFS', 'Dragon Spacecraft Qualification Unit', '0', 'LEO', 'SpaceX', 'Success\\n', 'F9 v1.07B0003.18', 'Failure', '4 June 2010', '18:45', 1),\n",
       " (2, 'CCAFS', 'Dragon', '0', 'LEO', 'NASA', 'Success', 'F9 v1.07B0004.18', 'Failure', '8 December 2010', '15:43', 1),\n",
       " (3, 'CCAFS', 'Dragon', '525 kg', 'LEO', 'NASA', 'Success', 'F9 v1.07B0005.18', 'No attempt\\n', '22 May 2012', '07:44', 1),\n",
       " (4, 'CCAFS', 'SpaceX CRS-1', '4,700 kg', 'LEO', 'NASA', 'Success\\n', 'F9 v1.07B0006.18', 'No attempt', '8 October 2012', '00:35', 0),\n",
       " (5, 'CCAFS', 'SpaceX CRS-2', '4,877 kg', 'LEO', 'NASA', 'Success\\n', 'F9 v1.07B0007.18', 'No attempt\\n', '1 March 2013', '15:10', 1)]"
      ]
     },
     "execution_count": 27,
     "metadata": {},
     "output_type": "execute_result"
    }
   ],
   "source": [
    "%sql SELECT * FROM SPACEXTABLE WHERE launch_site LIKE 'CCA%' LIMIT 5;\n"
   ]
  },
  {
   "cell_type": "code",
   "execution_count": 28,
   "id": "c218b5a8-dbb8-452e-ad4c-fdcf127c6323",
   "metadata": {},
   "outputs": [
    {
     "name": "stdout",
     "output_type": "stream",
     "text": [
      " * sqlite:///my_data1.db\n",
      "Done.\n"
     ]
    },
    {
     "data": {
      "text/html": [
       "<table>\n",
       "    <thead>\n",
       "        <tr>\n",
       "            <th>total_payload</th>\n",
       "        </tr>\n",
       "    </thead>\n",
       "    <tbody>\n",
       "        <tr>\n",
       "            <td>None</td>\n",
       "        </tr>\n",
       "    </tbody>\n",
       "</table>"
      ],
      "text/plain": [
       "[(None,)]"
      ]
     },
     "execution_count": 28,
     "metadata": {},
     "output_type": "execute_result"
    }
   ],
   "source": [
    "%sql SELECT SUM(payload_mass) AS total_payload FROM SPACEXTABLE WHERE customer = 'NASA (CRS)';\n"
   ]
  },
  {
   "cell_type": "code",
   "execution_count": 29,
   "id": "15c28142-3569-43c0-86a4-542f77e9cd9b",
   "metadata": {},
   "outputs": [
    {
     "name": "stdout",
     "output_type": "stream",
     "text": [
      " * sqlite:///my_data1.db\n",
      "Done.\n"
     ]
    },
    {
     "data": {
      "text/html": [
       "<table>\n",
       "    <thead>\n",
       "        <tr>\n",
       "            <th>avg_payload</th>\n",
       "        </tr>\n",
       "    </thead>\n",
       "    <tbody>\n",
       "        <tr>\n",
       "            <td>2.6</td>\n",
       "        </tr>\n",
       "    </tbody>\n",
       "</table>"
      ],
      "text/plain": [
       "[(2.6,)]"
      ]
     },
     "execution_count": 29,
     "metadata": {},
     "output_type": "execute_result"
    }
   ],
   "source": [
    "%sql SELECT AVG(payload_mass) AS avg_payload FROM SPACEXTABLE WHERE version_booster = 'F9 v1.1';\n"
   ]
  },
  {
   "cell_type": "code",
   "execution_count": 30,
   "id": "dd8bacff-7e5e-4992-8a15-524ada773dd2",
   "metadata": {},
   "outputs": [
    {
     "name": "stdout",
     "output_type": "stream",
     "text": [
      " * sqlite:///my_data1.db\n",
      "Done.\n"
     ]
    },
    {
     "data": {
      "text/html": [
       "<table>\n",
       "    <thead>\n",
       "        <tr>\n",
       "            <th>first_success_ground_pad</th>\n",
       "        </tr>\n",
       "    </thead>\n",
       "    <tbody>\n",
       "        <tr>\n",
       "            <td>None</td>\n",
       "        </tr>\n",
       "    </tbody>\n",
       "</table>"
      ],
      "text/plain": [
       "[(None,)]"
      ]
     },
     "execution_count": 30,
     "metadata": {},
     "output_type": "execute_result"
    }
   ],
   "source": [
    "%sql SELECT MIN(date) AS first_success_ground_pad FROM SPACEXTABLE WHERE booster_landing = 'Success (ground pad)';\n"
   ]
  },
  {
   "cell_type": "code",
   "execution_count": 34,
   "id": "d40d5742-42b2-4377-9d63-9b60630e17f8",
   "metadata": {},
   "outputs": [
    {
     "name": "stdout",
     "output_type": "stream",
     "text": [
      " * sqlite:///my_data1.db\n",
      "Done.\n"
     ]
    },
    {
     "data": {
      "text/html": [
       "<table>\n",
       "    <thead>\n",
       "        <tr>\n",
       "            <th>version_booster</th>\n",
       "        </tr>\n",
       "    </thead>\n",
       "    <tbody>\n",
       "    </tbody>\n",
       "</table>"
      ],
      "text/plain": [
       "[]"
      ]
     },
     "execution_count": 34,
     "metadata": {},
     "output_type": "execute_result"
    }
   ],
   "source": [
    "%%sql\n",
    "SELECT version_booster \n",
    "FROM SPACEXTABLE \n",
    "WHERE booster_landing = 'Success (drone ship)' \n",
    "  AND CAST(payload_mass AS INTEGER) > 4000 \n",
    "  AND CAST(payload_mass AS INTEGER) < 6000;\n"
   ]
  },
  {
   "cell_type": "code",
   "execution_count": 36,
   "id": "309ddd01-7b2f-4627-ad63-1faf913c9014",
   "metadata": {},
   "outputs": [
    {
     "name": "stdout",
     "output_type": "stream",
     "text": [
      " * sqlite:///my_data1.db\n",
      "Done.\n"
     ]
    },
    {
     "data": {
      "text/html": [
       "<table>\n",
       "    <thead>\n",
       "        <tr>\n",
       "            <th>launch_outcome</th>\n",
       "            <th>outcome_count</th>\n",
       "        </tr>\n",
       "    </thead>\n",
       "    <tbody>\n",
       "        <tr>\n",
       "            <td>Failure</td>\n",
       "            <td>1</td>\n",
       "        </tr>\n",
       "        <tr>\n",
       "            <td>Success</td>\n",
       "            <td>32</td>\n",
       "        </tr>\n",
       "        <tr>\n",
       "            <td>Success<br></td>\n",
       "            <td>88</td>\n",
       "        </tr>\n",
       "    </tbody>\n",
       "</table>"
      ],
      "text/plain": [
       "[('Failure', 1), ('Success', 32), ('Success\\n', 88)]"
      ]
     },
     "execution_count": 36,
     "metadata": {},
     "output_type": "execute_result"
    }
   ],
   "source": [
    "%%sql \n",
    "SELECT launch_outcome, COUNT(*) AS outcome_count \n",
    "FROM SPACEXTABLE \n",
    "GROUP BY launch_outcome;\n"
   ]
  },
  {
   "cell_type": "code",
   "execution_count": 37,
   "id": "a1906b31-ad09-430e-9a43-d289dac06e05",
   "metadata": {},
   "outputs": [
    {
     "name": "stdout",
     "output_type": "stream",
     "text": [
      " * sqlite:///my_data1.db\n",
      "Done.\n"
     ]
    },
    {
     "data": {
      "text/html": [
       "<table>\n",
       "    <thead>\n",
       "        <tr>\n",
       "            <th>version_booster</th>\n",
       "            <th>payload_mass</th>\n",
       "        </tr>\n",
       "    </thead>\n",
       "    <tbody>\n",
       "        <tr>\n",
       "            <td>F9 v1.1[</td>\n",
       "            <td>570 kg</td>\n",
       "        </tr>\n",
       "    </tbody>\n",
       "</table>"
      ],
      "text/plain": [
       "[('F9 v1.1[', '570 kg')]"
      ]
     },
     "execution_count": 37,
     "metadata": {},
     "output_type": "execute_result"
    }
   ],
   "source": [
    "%%sql\n",
    "SELECT version_booster, payload_mass \n",
    "FROM SPACEXTABLE \n",
    "WHERE CAST(payload_mass AS INTEGER) = (\n",
    "    SELECT MAX(CAST(payload_mass AS INTEGER)) FROM SPACEXTABLE\n",
    ");\n"
   ]
  },
  {
   "cell_type": "code",
   "execution_count": 39,
   "id": "dab1f998-bd96-4dc7-ae4c-cf8767ae01ea",
   "metadata": {},
   "outputs": [
    {
     "name": "stdout",
     "output_type": "stream",
     "text": [
      " * sqlite:///my_data1.db\n",
      "Done.\n"
     ]
    },
    {
     "data": {
      "text/html": [
       "<table>\n",
       "    <thead>\n",
       "        <tr>\n",
       "            <th>month</th>\n",
       "            <th>booster_landing</th>\n",
       "            <th>version_booster</th>\n",
       "            <th>launch_site</th>\n",
       "        </tr>\n",
       "    </thead>\n",
       "    <tbody>\n",
       "    </tbody>\n",
       "</table>"
      ],
      "text/plain": [
       "[]"
      ]
     },
     "execution_count": 39,
     "metadata": {},
     "output_type": "execute_result"
    }
   ],
   "source": [
    "%%sql\n",
    "SELECT \n",
    "    SUBSTR(date, 6, 2) AS month,\n",
    "    booster_landing,\n",
    "    version_booster,\n",
    "    launch_site\n",
    "FROM SPACEXTABLE\n",
    "WHERE booster_landing = 'Failure (drone ship)'\n",
    "  AND SUBSTR(date, 1, 4) = '2015';\n"
   ]
  },
  {
   "cell_type": "code",
   "execution_count": 40,
   "id": "d2e47622-c006-443e-a43c-6315bde9df04",
   "metadata": {},
   "outputs": [
    {
     "name": "stdout",
     "output_type": "stream",
     "text": [
      " * sqlite:///my_data1.db\n",
      "Done.\n"
     ]
    },
    {
     "data": {
      "text/html": [
       "<table>\n",
       "    <thead>\n",
       "        <tr>\n",
       "            <th>booster_landing</th>\n",
       "            <th>outcome_count</th>\n",
       "        </tr>\n",
       "    </thead>\n",
       "    <tbody>\n",
       "    </tbody>\n",
       "</table>"
      ],
      "text/plain": [
       "[]"
      ]
     },
     "execution_count": 40,
     "metadata": {},
     "output_type": "execute_result"
    }
   ],
   "source": [
    "%%sql\n",
    "SELECT booster_landing, COUNT(*) AS outcome_count\n",
    "FROM SPACEXTABLE\n",
    "WHERE date BETWEEN '2010-06-04' AND '2017-03-20'\n",
    "GROUP BY booster_landing\n",
    "ORDER BY outcome_count DESC;\n"
   ]
  },
  {
   "cell_type": "code",
   "execution_count": null,
   "id": "9b490055-3af6-490a-bcac-69c0bcad98f0",
   "metadata": {},
   "outputs": [],
   "source": []
  }
 ],
 "metadata": {
  "kernelspec": {
   "display_name": "Python 3 (ipykernel)",
   "language": "python",
   "name": "python3"
  },
  "language_info": {
   "codemirror_mode": {
    "name": "ipython",
    "version": 3
   },
   "file_extension": ".py",
   "mimetype": "text/x-python",
   "name": "python",
   "nbconvert_exporter": "python",
   "pygments_lexer": "ipython3",
   "version": "3.9.7"
  }
 },
 "nbformat": 4,
 "nbformat_minor": 5
}
