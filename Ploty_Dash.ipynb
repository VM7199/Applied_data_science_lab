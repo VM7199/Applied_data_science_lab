{
 "cells": [
  {
   "cell_type": "code",
   "execution_count": 42,
   "id": "1f28b4aa-8e82-4436-bb6f-12285c101322",
   "metadata": {},
   "outputs": [
    {
     "name": "stdout",
     "output_type": "stream",
     "text": [
      "Column names in dataset_part_2:\n",
      "['Flight No.', 'Launch site', 'Payload', 'Payload mass', 'Orbit', 'Customer', 'Launch outcome', 'Version Booster', 'Booster landing', 'Date', 'Time', 'Class']\n"
     ]
    }
   ],
   "source": [
    "import pandas as pd\n",
    "\n",
    "# Load the dataset\n",
    "df = pd.read_csv(\"dataset_part_2.csv\")\n",
    "\n",
    "# Print all column names\n",
    "print(\"Column names in dataset_part_2:\")\n",
    "print(df.columns.tolist())\n"
   ]
  },
  {
   "cell_type": "code",
   "execution_count": 43,
   "id": "3959fd72-7a73-40dc-8901-2b22cc64a1ca",
   "metadata": {},
   "outputs": [
    {
     "data": {
      "text/html": [
       "\n",
       "        <iframe\n",
       "            width=\"100%\"\n",
       "            height=\"650\"\n",
       "            src=\"http://127.0.0.1:8051/\"\n",
       "            frameborder=\"0\"\n",
       "            allowfullscreen\n",
       "            \n",
       "        ></iframe>\n",
       "        "
      ],
      "text/plain": [
       "<IPython.lib.display.IFrame at 0x16180fd2f70>"
      ]
     },
     "metadata": {},
     "output_type": "display_data"
    }
   ],
   "source": [
    "import pandas as pd\n",
    "from dash import Dash, dcc, html, Input, Output\n",
    "import plotly.express as px\n",
    "\n",
    "# Load data\n",
    "spacex_df = pd.read_csv(\"dataset_part_2.csv\")\n",
    "\n",
    "# Create list of launch sites for dropdown\n",
    "launch_sites = [{'label': 'All Sites', 'value': 'ALL'}] + \\\n",
    "    [{'label': site, 'value': site} for site in spacex_df['Launch site'].unique()]\n",
    "\n",
    "# Initialize Dash app\n",
    "app = Dash(__name__)\n",
    "\n",
    "# Layout with dropdown\n",
    "app.layout = html.Div([\n",
    "    html.H1(\"SpaceX Launch Dashboard\", style={'textAlign': 'center'}),\n",
    "    dcc.Dropdown(\n",
    "        id='site-dropdown',\n",
    "        options=launch_sites,\n",
    "        value='ALL',\n",
    "        placeholder=\"Select a Launch Site here\",\n",
    "        searchable=True\n",
    "    ),\n",
    "    html.Br(),\n",
    "    html.Div(dcc.Graph(id='success-pie-chart'))\n",
    "])\n",
    "\n",
    "# Run the app\n",
    "\n",
    "if __name__ == '__main__':\n",
    "    app.run(debug=True, port=8051)\n",
    "\n",
    "\n"
   ]
  },
  {
   "cell_type": "code",
   "execution_count": 44,
   "id": "fec1ded6-1b6e-4a1d-b376-dca5ebc0e9d4",
   "metadata": {},
   "outputs": [
    {
     "data": {
      "text/html": [
       "\n",
       "        <iframe\n",
       "            width=\"100%\"\n",
       "            height=\"650\"\n",
       "            src=\"http://127.0.0.1:8051/\"\n",
       "            frameborder=\"0\"\n",
       "            allowfullscreen\n",
       "            \n",
       "        ></iframe>\n",
       "        "
      ],
      "text/plain": [
       "<IPython.lib.display.IFrame at 0x161810ecfa0>"
      ]
     },
     "metadata": {},
     "output_type": "display_data"
    }
   ],
   "source": [
    "# Task 2: Callback to render pie chart based on selected site\n",
    "from dash import Dash, dcc, html, Input, Output\n",
    "import pandas as pd\n",
    "import plotly.express as px\n",
    "\n",
    "# Load data\n",
    "spacex_df = pd.read_csv(\"dataset_part_2.csv\")\n",
    "\n",
    "# Launch site options\n",
    "launch_sites = [{'label': 'All Sites', 'value': 'ALL'}] + \\\n",
    "               [{'label': site, 'value': site} for site in spacex_df['Launch site'].unique()]\n",
    "\n",
    "# Initialize app\n",
    "app = Dash(__name__)\n",
    "\n",
    "# App layout\n",
    "app.layout = html.Div([\n",
    "    html.H1('SpaceX Launch Dashboard', style={'textAlign': 'center'}),\n",
    "    dcc.Dropdown(\n",
    "        id='site-dropdown',\n",
    "        options=launch_sites,\n",
    "        value='ALL',\n",
    "        placeholder=\"Select a Launch Site here\",\n",
    "        searchable=True\n",
    "    ),\n",
    "    html.Br(),\n",
    "    dcc.Graph(id='success-pie-chart')\n",
    "])\n",
    "\n",
    "# Callback to update pie chart\n",
    "@app.callback(\n",
    "    Output('success-pie-chart', 'figure'),\n",
    "    Input('site-dropdown', 'value')\n",
    ")\n",
    "def update_pie_chart(selected_site):\n",
    "    if selected_site == 'ALL':\n",
    "        fig = px.pie(\n",
    "            spacex_df,\n",
    "            names='Launch site',\n",
    "            values='Class',\n",
    "            title='Total Successful Launches by Site'\n",
    "        )\n",
    "    else:\n",
    "        filtered_df = spacex_df[spacex_df['Launch site'] == selected_site]\n",
    "        success_count = filtered_df['Class'].value_counts().reset_index()\n",
    "        success_count.columns = ['Outcome', 'Count']\n",
    "        success_count['Outcome'] = success_count['Outcome'].replace({1: 'Success', 0: 'Failure'})\n",
    "\n",
    "        fig = px.pie(\n",
    "            success_count,\n",
    "            names='Outcome',\n",
    "            values='Count',\n",
    "            title=f'Success vs Failure for site {selected_site}'\n",
    "        )\n",
    "    return fig\n",
    "\n",
    "# Run the app\n",
    "app.run(port=8051, debug=False)\n",
    "\n"
   ]
  },
  {
   "cell_type": "code",
   "execution_count": 45,
   "id": "d6098fc3-65c9-4895-9aa6-0c1dea2a84d8",
   "metadata": {},
   "outputs": [],
   "source": [
    "# Clean the 'Payload mass' column\n",
    "spacex_df['Payload mass'] = spacex_df['Payload mass'].astype(str)  # Convert to string\n",
    "spacex_df['Payload mass'] = spacex_df['Payload mass'].str.replace('[^0-9.]', '', regex=True)\n",
    "spacex_df['Payload mass'] = pd.to_numeric(spacex_df['Payload mass'], errors='coerce')  # Convert to numeric\n"
   ]
  },
  {
   "cell_type": "code",
   "execution_count": 46,
   "id": "ab01f9c4-e549-48c0-9593-d66321ad2ce9",
   "metadata": {},
   "outputs": [
    {
     "data": {
      "text/html": [
       "\n",
       "        <iframe\n",
       "            width=\"100%\"\n",
       "            height=\"650\"\n",
       "            src=\"http://127.0.0.1:8051/\"\n",
       "            frameborder=\"0\"\n",
       "            allowfullscreen\n",
       "            \n",
       "        ></iframe>\n",
       "        "
      ],
      "text/plain": [
       "<IPython.lib.display.IFrame at 0x161811247f0>"
      ]
     },
     "metadata": {},
     "output_type": "display_data"
    }
   ],
   "source": [
    "import pandas as pd\n",
    "from dash import Dash, dcc, html, Input, Output\n",
    "import plotly.express as px\n",
    "\n",
    "# Load the dataset\n",
    "spacex_df = pd.read_csv(\"dataset_part_2.csv\")\n",
    "\n",
    "# Clean Payload mass column (in case it has strings like '~5,000 kg')\n",
    "if not pd.api.types.is_numeric_dtype(spacex_df['Payload mass']):\n",
    "    spacex_df['Payload mass'] = spacex_df['Payload mass'].astype(str).str.replace('[^0-9.]', '', regex=True)\n",
    "    spacex_df['Payload mass'] = pd.to_numeric(spacex_df['Payload mass'], errors='coerce')\n",
    "\n",
    "# Drop rows with missing payload mass\n",
    "spacex_df = spacex_df.dropna(subset=['Payload mass'])\n",
    "\n",
    "# List of launch sites for dropdown\n",
    "launch_sites = [{'label': 'All Sites', 'value': 'ALL'}] + \\\n",
    "               [{'label': site, 'value': site} for site in spacex_df['Launch site'].unique()]\n",
    "\n",
    "# Get min/max payload for the slider\n",
    "min_payload = int(spacex_df['Payload mass'].min())\n",
    "max_payload = int(spacex_df['Payload mass'].max())\n",
    "\n",
    "# Initialize the app\n",
    "app = Dash(__name__)\n",
    "\n",
    "# App layout including Payload RangeSlider\n",
    "app.layout = html.Div([\n",
    "    html.H1('SpaceX Launch Dashboard', style={'textAlign': 'center'}),\n",
    "\n",
    "    # Dropdown\n",
    "    dcc.Dropdown(\n",
    "        id='site-dropdown',\n",
    "        options=launch_sites,\n",
    "        value='ALL',\n",
    "        placeholder=\"Select a Launch Site here\",\n",
    "        searchable=True\n",
    "    ),\n",
    "\n",
    "    html.Br(),\n",
    "\n",
    "    # Pie Chart placeholder\n",
    "    dcc.Graph(id='success-pie-chart'),\n",
    "\n",
    "    html.Br(),\n",
    "\n",
    "    # Payload Range Slider\n",
    "    html.P(\"Payload range (Kg):\"),\n",
    "    dcc.RangeSlider(\n",
    "        id='payload-slider',\n",
    "        min=min_payload,\n",
    "        max=max_payload,\n",
    "        step=100,\n",
    "        value=[min_payload, max_payload],\n",
    "        marks={\n",
    "            min_payload: str(min_payload),\n",
    "            max_payload: str(max_payload)\n",
    "        }\n",
    "    ),\n",
    "\n",
    "    html.Br(),\n",
    "\n",
    "    # Placeholder for scatter chart (will be completed in Task 4)\n",
    "    dcc.Graph(id='success-payload-scatter-chart')\n",
    "])\n",
    "\n",
    "# Run the app\n",
    "if __name__ == '__main__':\n",
    "     app.run(port=8051, debug=True)\n"
   ]
  },
  {
   "cell_type": "code",
   "execution_count": 49,
   "id": "f35aa947-dac1-4910-bbc3-910e59a8f052",
   "metadata": {},
   "outputs": [
    {
     "data": {
      "text/html": [
       "\n",
       "        <iframe\n",
       "            width=\"100%\"\n",
       "            height=\"650\"\n",
       "            src=\"http://127.0.0.1:8051/\"\n",
       "            frameborder=\"0\"\n",
       "            allowfullscreen\n",
       "            \n",
       "        ></iframe>\n",
       "        "
      ],
      "text/plain": [
       "<IPython.lib.display.IFrame at 0x16181220250>"
      ]
     },
     "metadata": {},
     "output_type": "display_data"
    }
   ],
   "source": [
    "#TASK 4: Add a callback function to render the success-payload-scatter-chart scatter plot\n",
    "@app.callback(\n",
    "    Output('success-pie-chart', 'figure'),\n",
    "    Input('site-dropdown', 'value')\n",
    ")\n",
    "def update_pie_chart(selected_site):\n",
    "    if selected_site == 'ALL':\n",
    "        # Show total success counts for all sites\n",
    "        fig = px.pie(\n",
    "            spacex_df,\n",
    "            names='Launch site',\n",
    "            values='Class',\n",
    "            title='Total Success Launches by Site'\n",
    "        )\n",
    "    else:\n",
    "        # Show success vs. failure for the selected site\n",
    "        filtered_df = spacex_df[spacex_df['Launch site'] == selected_site]\n",
    "        fig = px.pie(\n",
    "            filtered_df,\n",
    "            names='Class',\n",
    "            title=f'Total Success vs. Failure for site {selected_site}'\n",
    "        )\n",
    "    return fig\n",
    "app.run(port=8051, debug=False)"
   ]
  },
  {
   "cell_type": "code",
   "execution_count": null,
   "id": "b5946b32-bda7-4679-a56f-6a3dad28d6ff",
   "metadata": {},
   "outputs": [],
   "source": []
  },
  {
   "cell_type": "code",
   "execution_count": null,
   "id": "6e8f5b38-1741-473f-ba99-c96d608b7c9c",
   "metadata": {},
   "outputs": [],
   "source": []
  }
 ],
 "metadata": {
  "kernelspec": {
   "display_name": "Python 3 (ipykernel)",
   "language": "python",
   "name": "python3"
  },
  "language_info": {
   "codemirror_mode": {
    "name": "ipython",
    "version": 3
   },
   "file_extension": ".py",
   "mimetype": "text/x-python",
   "name": "python",
   "nbconvert_exporter": "python",
   "pygments_lexer": "ipython3",
   "version": "3.9.7"
  }
 },
 "nbformat": 4,
 "nbformat_minor": 5
}
